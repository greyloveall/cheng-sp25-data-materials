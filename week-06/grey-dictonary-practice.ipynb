{
 "cells": [
  {
   "cell_type": "code",
   "execution_count": 1,
   "id": "97f45303-00d5-42c8-b35b-73db708c6e29",
   "metadata": {},
   "outputs": [
    {
     "name": "stdout",
     "output_type": "stream",
     "text": [
      "{'Patrick Murphy': 45, 'Mary Kelly': 23, 'Thomas Williams': 16, 'Elizabeth Smith': 34}\n"
     ]
    }
   ],
   "source": [
    "# Create a dictionary mapping names to ages\n",
    "ages_dict = {\n",
    "    \"Patrick Murphy\": 45,\n",
    "    \"Mary Kelly\": 23,\n",
    "    \"Thomas Williams\": 16,\n",
    "    \"Elizabeth Smith\": 34\n",
    "}\n",
    "\n",
    "# Print the entire dictionary\n",
    "print(ages_dict)\n"
   ]
  },
  {
   "cell_type": "code",
   "execution_count": 2,
   "id": "1298a068-2074-47ec-ad86-f27cec040a56",
   "metadata": {},
   "outputs": [
    {
     "name": "stdout",
     "output_type": "stream",
     "text": [
      "Patrick Murphy is 45 years old.\n"
     ]
    }
   ],
   "source": [
    "# Get Patrick's age using his name as the key\n",
    "patricks_age = ages_dict[\"Patrick Murphy\"]\n",
    "print(f\"Patrick Murphy is {patricks_age} years old.\")\n"
   ]
  },
  {
   "cell_type": "code",
   "execution_count": 3,
   "id": "b638ce76-afcb-4b47-8030-a693122e221d",
   "metadata": {},
   "outputs": [
    {
     "name": "stdout",
     "output_type": "stream",
     "text": [
      "{'Taylor Swift': 35, 'Olivia Rodrigo': 22, 'Tom Hanks': 68, 'Meryl Streep': 75}\n"
     ]
    }
   ],
   "source": [
    "# Create a dictionary mapping names to ages\n",
    "celebrity_ages = {\n",
    "    \"Taylor Swift\": 35,\n",
    "    \"Olivia Rodrigo\": 22,\n",
    "    \"Tom Hanks\": 68,\n",
    "    \"Meryl Streep\": 75\n",
    "}\n",
    "\n",
    "# Print the entire dictionary\n",
    "print(celebrity_ages)\n"
   ]
  },
  {
   "cell_type": "code",
   "execution_count": 4,
   "id": "7c603c6d-49e5-4174-b690-1ee4356bbb07",
   "metadata": {},
   "outputs": [
    {
     "name": "stdout",
     "output_type": "stream",
     "text": [
      "Taylor Swift is 35 years old.\n"
     ]
    }
   ],
   "source": [
    "# Get Patrick's age using his name as the key\n",
    "taylor_swift_age = celebrity_ages[\"Taylor Swift\"]\n",
    "print(f\"Taylor Swift is {taylor_swift_age} years old.\")\n"
   ]
  },
  {
   "cell_type": "code",
   "execution_count": 5,
   "id": "9cdf7cc6-7fba-4b72-b6ba-5b6f28e019b3",
   "metadata": {},
   "outputs": [],
   "source": [
    "# Create one dictionary with all information about each person\n",
    "census_data = {\n",
    "    \"Patrick Murphy\": {\n",
    "        \"age\": 45,\n",
    "        \"birth_place\": \"Ireland\",\n",
    "        \"occupation\": \"farmer\"\n",
    "    },\n",
    "    \"Mary Kelly\": {\n",
    "        \"age\": 23,\n",
    "        \"birth_place\": \"Ireland\",\n",
    "        \"occupation\": \"servant\"\n",
    "    },\n",
    "    \"Thomas Williams\": {\n",
    "        \"age\": 17,\n",
    "        \"birth_place\": \"Wales\",\n",
    "        \"occupation\": \"laborer\"\n",
    "    },\n",
    "    \"Elizabeth Smith\": {\n",
    "    \"age\": 34,\n",
    "    \"birth_place\": \"England\",\n",
    "    \"occupation\": \"servant\"\n",
    "    }\n",
    "}\n"
   ]
  },
  {
   "cell_type": "code",
   "execution_count": 6,
   "id": "e04ce394-0dc4-4374-87b2-051952a5c8fc",
   "metadata": {},
   "outputs": [
    {
     "name": "stdout",
     "output_type": "stream",
     "text": [
      "{'age': 45, 'birth_place': 'Ireland', 'occupation': 'farmer'}\n",
      "farmer\n"
     ]
    }
   ],
   "source": [
    "# Access data from our nested dictionary\n",
    "print(census_data[\"Patrick Murphy\"])\n",
    "print(census_data[\"Patrick Murphy\"][\"occupation\"])\n"
   ]
  },
  {
   "cell_type": "code",
   "execution_count": 7,
   "id": "f456752c-ddfd-47e7-ab5b-f5071a2e1e95",
   "metadata": {},
   "outputs": [
    {
     "name": "stdout",
     "output_type": "stream",
     "text": [
      "Mary Kelly is 23 years old.\n"
     ]
    }
   ],
   "source": [
    "kelly_age = census_data[\"Mary Kelly\"][\"age\"]\n",
    "print(f\"Mary Kelly is {kelly_age} years old.\")"
   ]
  },
  {
   "cell_type": "code",
   "execution_count": 2,
   "id": "c7b402af-8c22-4fd1-b358-0ccc48bb9446",
   "metadata": {},
   "outputs": [],
   "source": [
    "# Here are our lists of data\n",
    "names = [\"Patrick Murphy\", \"Mary Kelly\", \"Thomas Williams\", \"Elizabeth Smith\", \"Michael Sullivan\",\n",
    "         \"Anna Schmidt\", \"William Johnson\", \"James O'Connor\", \"Bridget Walsh\", \"Robert Campbell\",\n",
    "         \"Catherine Miller\", \"George Thompson\", \"Sean O'Neill\", \"David Jones\", \"Kevin Burke\",\n",
    "         \"Margaret Wilson\", \"Donald Fraser\", \"Eileen Doyle\", \"Frieda Weber\", \"Timothy Ryan\"]\n",
    "\n",
    "ages = [45, 23, 16, 34, 64, 28, 42, 31, 27, 38, 17, 52, 29, 44, 33, 15, 61, 36, 18, 41]\n",
    "\n",
    "birth_places = ['Ireland', 'Ireland', 'New York', 'England', 'Ireland', 'Germany', 'New York',\n",
    "               'Ireland', 'Ireland', 'Scotland', 'Ireland', 'England', 'Ireland', 'Wales',\n",
    "               'Ireland', 'Ireland', 'Scotland', 'Ireland', 'Germany', 'Ireland']\n",
    "\n",
    "occupations = ['farmer', 'servant', 'laborer', 'merchant', 'farmer', 'servant', 'teacher', 'farmer',\n",
    "              'laborer', 'merchant', 'servant', 'farmer', 'laborer', 'blacksmith', 'carpenter',\n",
    "              'servant', 'farmer', 'weaver', 'servant', 'carpenter']\n"
   ]
  },
  {
   "cell_type": "code",
   "execution_count": null,
   "id": "404dd937-13e5-43ee-a4a1-777ae6331bd2",
   "metadata": {},
   "outputs": [],
   "source": [
    "# Start with an empty dictionary\n",
    "auto_census = {}\n",
    "\n",
    "# Loop through the lists to create our nested dictionary\n",
    "for i in range(len(names)):\n",
    "    # Extract the data for this person and temporarily put the data into a series of variables\n",
    "    name = names[i]\n",
    "    age = ages[i]\n",
    "    birth_place = birth_places[i]\n",
    "    occupation = occupations[i]\n",
    "\n",
    "    # Create the nested dictionary for this person\n",
    "    auto_census[name] = {\n",
    "        \"age\": age,\n",
    "        \"birth_place\": birth_place,\n",
    "        \"occupation\": occupation\n",
    "    }\n"
   ]
  }
 ],
 "metadata": {
  "kernelspec": {
   "display_name": "Python 3 (ipykernel)",
   "language": "python",
   "name": "python3"
  },
  "language_info": {
   "codemirror_mode": {
    "name": "ipython",
    "version": 3
   },
   "file_extension": ".py",
   "mimetype": "text/x-python",
   "name": "python",
   "nbconvert_exporter": "python",
   "pygments_lexer": "ipython3",
   "version": "3.12.7"
  }
 },
 "nbformat": 4,
 "nbformat_minor": 5
}
