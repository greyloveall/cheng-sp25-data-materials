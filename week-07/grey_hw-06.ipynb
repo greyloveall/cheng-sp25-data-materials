{
 "cells": [
  {
   "cell_type": "markdown",
   "id": "4b5b7255",
   "metadata": {},
   "source": [
    "# Homework 06\n"
   ]
  },
  {
   "cell_type": "markdown",
   "id": "b45e3a2a",
   "metadata": {},
   "source": [
    "### ⚠️ Before you start ⚠️\n",
    "\n",
    "_Duplicate this Jupyter Notebook in your `week-07` folder (right-click -> Duplicate) and then add your last name to the beginning of it (ie. `blevins-hw-06.ipynb` - otherwise you risk having all your work overwritten when you try to sync your GitHub repository with your instructor's repository._\n"
   ]
  },
  {
   "cell_type": "markdown",
   "id": "76c93e69-63e5-478b-90a9-95ac5a016ca8",
   "metadata": {
    "tags": []
   },
   "source": [
    "---\n",
    "Student Name: Gryell\n",
    "---\n"
   ]
  },
  {
   "cell_type": "markdown",
   "id": "25cb975d-ea40-4826-9879-5bc8bc8b56c3",
   "metadata": {
    "tags": []
   },
   "source": [
    "## Overview\n",
    "\n",
    "This homework assignment will help you learn how to use the Pandas library to explore tabular data by applying some of the concepts and lessons from Melanie Walsh, [Pandas I](https://info1350.github.io/Intro-CA-SP21/03-Data-Analysis/01-Pandas-Basics-Part1.html) to a new dataset.\n"
   ]
  },
  {
   "cell_type": "markdown",
   "id": "1b3b7714",
   "metadata": {},
   "source": [
    "This week we're going to use a spreadsheet of historical data transcribed by CU Denver history major Ryan Hanlon as part of his final project for the course Introduction to Digital Studies in Spring 2021. The data consists of a passenger list from a steamship that arrived in Boston on April 9, 1884 carrying several hundred immigrants.\n",
    "\n",
    "<div align=\"center\">\n",
    "  <img\n",
    "    src=\"grecian.jpg\"\n",
    "    width=\"60%\"\n",
    "    style=\"border: 2px solid\"\n",
    "    alt=\"Description of image\"\n",
    "  />\n",
    "  <figcaption style=\"font-style: italic\">\n",
    "    The Steamship Grecian\n",
    "  </figcaption>\n",
    "</div>\n"
   ]
  },
  {
   "cell_type": "markdown",
   "id": "392b29fe",
   "metadata": {},
   "source": [
    "The nine-page passenger list from the _Steamship Grecian_ was submitted to authorities at the Port of Boston. This document was later scanned by the Church of Latter Day Saints and made available through its FamilySearch online archive.\n",
    "\n",
    "<div align=\"center\">\n",
    "  <img\n",
    "    src=\"passenger-list-page.jpeg\"\n",
    "    width=\"40%\"\n",
    "    style=\"border: 2px solid\"\n",
    "    alt=\"Description of image\"\n",
    "  />\n",
    "  <figcaption style=\"font-style: italic\">\n",
    "    Passenger list from the Steamship Grecian\n",
    "  </figcaption>\n",
    "</div>\n"
   ]
  },
  {
   "cell_type": "markdown",
   "id": "ff8b1a92",
   "metadata": {},
   "source": [
    "Ryan then transcribed the data in Spring 2021 into a spreadsheet formatted as a CSV (comma separated value) file contained in this folder: `boston-passenger-list-1884.csv`.\n",
    "\n",
    "For this homework, you will be following many of Melanie Walsh's steps in [Pandas I](https://info1350.github.io/Intro-CA-SP21/03-Data-Analysis/01-Pandas-Basics-Part1.html) and then adapting them to fit this new dataset.\n",
    "\n",
    "---\n"
   ]
  },
  {
   "cell_type": "markdown",
   "id": "dfdad06b-b2c0-4971-9b02-3df9883ea90d",
   "metadata": {},
   "source": [
    "1. Import the Pandas library (use the alias `pd`) and read in the CSV file, storing the contents of the file as a dataframe named `passengers_df`. Add a second line of code to display the contents of the dataframe (truncated).\n"
   ]
  },
  {
   "cell_type": "code",
   "execution_count": 10,
   "id": "9f340f81-2b12-4404-ad6e-2c17003ac5b4",
   "metadata": {},
   "outputs": [
    {
     "data": {
      "text/html": [
       "<div>\n",
       "<style scoped>\n",
       "    .dataframe tbody tr th:only-of-type {\n",
       "        vertical-align: middle;\n",
       "    }\n",
       "\n",
       "    .dataframe tbody tr th {\n",
       "        vertical-align: top;\n",
       "    }\n",
       "\n",
       "    .dataframe thead th {\n",
       "        text-align: right;\n",
       "    }\n",
       "</style>\n",
       "<table border=\"1\" class=\"dataframe\">\n",
       "  <thead>\n",
       "    <tr style=\"text-align: right;\">\n",
       "      <th></th>\n",
       "      <th>first_name</th>\n",
       "      <th>last_name</th>\n",
       "      <th>date</th>\n",
       "      <th>age</th>\n",
       "      <th>native_country</th>\n",
       "      <th>destination_city</th>\n",
       "      <th>destination_state</th>\n",
       "      <th>occupation</th>\n",
       "      <th>ship</th>\n",
       "    </tr>\n",
       "  </thead>\n",
       "  <tbody>\n",
       "    <tr>\n",
       "      <th>0</th>\n",
       "      <td>Jno</td>\n",
       "      <td>McNab</td>\n",
       "      <td>09 Apr 1884</td>\n",
       "      <td>21</td>\n",
       "      <td>Scotland</td>\n",
       "      <td>Suelpla</td>\n",
       "      <td>Canada</td>\n",
       "      <td>Farmer</td>\n",
       "      <td>Steamship Grecian</td>\n",
       "    </tr>\n",
       "    <tr>\n",
       "      <th>1</th>\n",
       "      <td>Thos</td>\n",
       "      <td>Campbell</td>\n",
       "      <td>09 Apr 1884</td>\n",
       "      <td>24</td>\n",
       "      <td>Scotland</td>\n",
       "      <td>Suelpla</td>\n",
       "      <td>Canada</td>\n",
       "      <td>Farmer</td>\n",
       "      <td>Steamship Grecian</td>\n",
       "    </tr>\n",
       "    <tr>\n",
       "      <th>2</th>\n",
       "      <td>Jas</td>\n",
       "      <td>Mitchell</td>\n",
       "      <td>09 Apr 1884</td>\n",
       "      <td>23</td>\n",
       "      <td>Scotland</td>\n",
       "      <td>Detroit</td>\n",
       "      <td>MI</td>\n",
       "      <td>Farmer</td>\n",
       "      <td>Steamship Grecian</td>\n",
       "    </tr>\n",
       "    <tr>\n",
       "      <th>3</th>\n",
       "      <td>Don</td>\n",
       "      <td>Cumming</td>\n",
       "      <td>09 Apr 1884</td>\n",
       "      <td>24</td>\n",
       "      <td>Scotland</td>\n",
       "      <td>Detroit</td>\n",
       "      <td>MI</td>\n",
       "      <td>Blacksmith</td>\n",
       "      <td>Steamship Grecian</td>\n",
       "    </tr>\n",
       "    <tr>\n",
       "      <th>4</th>\n",
       "      <td>Jno</td>\n",
       "      <td>McKinlay</td>\n",
       "      <td>09 Apr 1884</td>\n",
       "      <td>24</td>\n",
       "      <td>Scotland</td>\n",
       "      <td>Winnipeg</td>\n",
       "      <td>Canada</td>\n",
       "      <td>Farmer</td>\n",
       "      <td>Steamship Grecian</td>\n",
       "    </tr>\n",
       "    <tr>\n",
       "      <th>...</th>\n",
       "      <td>...</td>\n",
       "      <td>...</td>\n",
       "      <td>...</td>\n",
       "      <td>...</td>\n",
       "      <td>...</td>\n",
       "      <td>...</td>\n",
       "      <td>...</td>\n",
       "      <td>...</td>\n",
       "      <td>...</td>\n",
       "    </tr>\n",
       "    <tr>\n",
       "      <th>510</th>\n",
       "      <td>Mich</td>\n",
       "      <td>Mulkern</td>\n",
       "      <td>09 Apr 1884</td>\n",
       "      <td>15</td>\n",
       "      <td>Ireland</td>\n",
       "      <td>Boston</td>\n",
       "      <td>MA</td>\n",
       "      <td>Laborer</td>\n",
       "      <td>Steamship Grecian</td>\n",
       "    </tr>\n",
       "    <tr>\n",
       "      <th>511</th>\n",
       "      <td>Math</td>\n",
       "      <td>Griffins</td>\n",
       "      <td>09 Apr 1884</td>\n",
       "      <td>2</td>\n",
       "      <td>Ireland</td>\n",
       "      <td>Pittsburg</td>\n",
       "      <td>PA</td>\n",
       "      <td>Child</td>\n",
       "      <td>Steamship Grecian</td>\n",
       "    </tr>\n",
       "    <tr>\n",
       "      <th>512</th>\n",
       "      <td>T</td>\n",
       "      <td>McDermott</td>\n",
       "      <td>09 Apr 1884</td>\n",
       "      <td>35</td>\n",
       "      <td>United States</td>\n",
       "      <td>Boston</td>\n",
       "      <td>MA</td>\n",
       "      <td>Boatman</td>\n",
       "      <td>Steamship Grecian</td>\n",
       "    </tr>\n",
       "    <tr>\n",
       "      <th>513</th>\n",
       "      <td>Wm</td>\n",
       "      <td>Hewitt</td>\n",
       "      <td>09 Apr 1884</td>\n",
       "      <td>25</td>\n",
       "      <td>United States</td>\n",
       "      <td>Boston</td>\n",
       "      <td>MA</td>\n",
       "      <td>Boatman</td>\n",
       "      <td>Steamship Grecian</td>\n",
       "    </tr>\n",
       "    <tr>\n",
       "      <th>514</th>\n",
       "      <td>F</td>\n",
       "      <td>Doherty</td>\n",
       "      <td>09 Apr 1884</td>\n",
       "      <td>27</td>\n",
       "      <td>United States</td>\n",
       "      <td>Boston</td>\n",
       "      <td>MA</td>\n",
       "      <td>Boatman</td>\n",
       "      <td>Steamship Grecian</td>\n",
       "    </tr>\n",
       "  </tbody>\n",
       "</table>\n",
       "<p>515 rows × 9 columns</p>\n",
       "</div>"
      ],
      "text/plain": [
       "    first_name  last_name         date  age native_country destination_city  \\\n",
       "0          Jno      McNab  09 Apr 1884   21       Scotland          Suelpla   \n",
       "1         Thos   Campbell  09 Apr 1884   24       Scotland          Suelpla   \n",
       "2          Jas   Mitchell  09 Apr 1884   23       Scotland          Detroit   \n",
       "3          Don    Cumming  09 Apr 1884   24       Scotland          Detroit   \n",
       "4          Jno   McKinlay  09 Apr 1884   24       Scotland         Winnipeg   \n",
       "..         ...        ...          ...  ...            ...              ...   \n",
       "510       Mich    Mulkern  09 Apr 1884   15        Ireland           Boston   \n",
       "511       Math   Griffins  09 Apr 1884    2        Ireland        Pittsburg   \n",
       "512          T  McDermott  09 Apr 1884   35  United States           Boston   \n",
       "513         Wm     Hewitt  09 Apr 1884   25  United States           Boston   \n",
       "514          F    Doherty  09 Apr 1884   27  United States           Boston   \n",
       "\n",
       "    destination_state  occupation               ship  \n",
       "0              Canada      Farmer  Steamship Grecian  \n",
       "1              Canada      Farmer  Steamship Grecian  \n",
       "2                  MI      Farmer  Steamship Grecian  \n",
       "3                  MI  Blacksmith  Steamship Grecian  \n",
       "4              Canada      Farmer  Steamship Grecian  \n",
       "..                ...         ...                ...  \n",
       "510                MA     Laborer  Steamship Grecian  \n",
       "511                PA       Child  Steamship Grecian  \n",
       "512                MA     Boatman  Steamship Grecian  \n",
       "513                MA     Boatman  Steamship Grecian  \n",
       "514                MA     Boatman  Steamship Grecian  \n",
       "\n",
       "[515 rows x 9 columns]"
      ]
     },
     "execution_count": 10,
     "metadata": {},
     "output_type": "execute_result"
    }
   ],
   "source": [
    "import pandas as pd\n",
    "passengers_df = pd.read_csv('E:/working-with-data/cheng-sp25-data-materials/week-07/boston-passenger-list-1884.csv', delimiter=\",\")\n",
    "passengers_df"
   ]
  },
  {
   "cell_type": "markdown",
   "id": "bf0b7f3f-33d5-415e-b484-353aeba009a9",
   "metadata": {},
   "source": [
    "2. Display the **first 6 rows** of the dataframe.\n"
   ]
  },
  {
   "cell_type": "code",
   "execution_count": 12,
   "id": "3f28a94c-869c-4e93-b7a3-a47dc8b7cdd1",
   "metadata": {},
   "outputs": [
    {
     "data": {
      "text/html": [
       "<div>\n",
       "<style scoped>\n",
       "    .dataframe tbody tr th:only-of-type {\n",
       "        vertical-align: middle;\n",
       "    }\n",
       "\n",
       "    .dataframe tbody tr th {\n",
       "        vertical-align: top;\n",
       "    }\n",
       "\n",
       "    .dataframe thead th {\n",
       "        text-align: right;\n",
       "    }\n",
       "</style>\n",
       "<table border=\"1\" class=\"dataframe\">\n",
       "  <thead>\n",
       "    <tr style=\"text-align: right;\">\n",
       "      <th></th>\n",
       "      <th>first_name</th>\n",
       "      <th>last_name</th>\n",
       "      <th>date</th>\n",
       "      <th>age</th>\n",
       "      <th>native_country</th>\n",
       "      <th>destination_city</th>\n",
       "      <th>destination_state</th>\n",
       "      <th>occupation</th>\n",
       "      <th>ship</th>\n",
       "    </tr>\n",
       "  </thead>\n",
       "  <tbody>\n",
       "    <tr>\n",
       "      <th>0</th>\n",
       "      <td>Jno</td>\n",
       "      <td>McNab</td>\n",
       "      <td>09 Apr 1884</td>\n",
       "      <td>21</td>\n",
       "      <td>Scotland</td>\n",
       "      <td>Suelpla</td>\n",
       "      <td>Canada</td>\n",
       "      <td>Farmer</td>\n",
       "      <td>Steamship Grecian</td>\n",
       "    </tr>\n",
       "    <tr>\n",
       "      <th>1</th>\n",
       "      <td>Thos</td>\n",
       "      <td>Campbell</td>\n",
       "      <td>09 Apr 1884</td>\n",
       "      <td>24</td>\n",
       "      <td>Scotland</td>\n",
       "      <td>Suelpla</td>\n",
       "      <td>Canada</td>\n",
       "      <td>Farmer</td>\n",
       "      <td>Steamship Grecian</td>\n",
       "    </tr>\n",
       "    <tr>\n",
       "      <th>2</th>\n",
       "      <td>Jas</td>\n",
       "      <td>Mitchell</td>\n",
       "      <td>09 Apr 1884</td>\n",
       "      <td>23</td>\n",
       "      <td>Scotland</td>\n",
       "      <td>Detroit</td>\n",
       "      <td>MI</td>\n",
       "      <td>Farmer</td>\n",
       "      <td>Steamship Grecian</td>\n",
       "    </tr>\n",
       "    <tr>\n",
       "      <th>3</th>\n",
       "      <td>Don</td>\n",
       "      <td>Cumming</td>\n",
       "      <td>09 Apr 1884</td>\n",
       "      <td>24</td>\n",
       "      <td>Scotland</td>\n",
       "      <td>Detroit</td>\n",
       "      <td>MI</td>\n",
       "      <td>Blacksmith</td>\n",
       "      <td>Steamship Grecian</td>\n",
       "    </tr>\n",
       "    <tr>\n",
       "      <th>4</th>\n",
       "      <td>Jno</td>\n",
       "      <td>McKinlay</td>\n",
       "      <td>09 Apr 1884</td>\n",
       "      <td>24</td>\n",
       "      <td>Scotland</td>\n",
       "      <td>Winnipeg</td>\n",
       "      <td>Canada</td>\n",
       "      <td>Farmer</td>\n",
       "      <td>Steamship Grecian</td>\n",
       "    </tr>\n",
       "    <tr>\n",
       "      <th>5</th>\n",
       "      <td>John</td>\n",
       "      <td>Wilson</td>\n",
       "      <td>09 Apr 1884</td>\n",
       "      <td>28</td>\n",
       "      <td>Scotland</td>\n",
       "      <td>Boston</td>\n",
       "      <td>MA</td>\n",
       "      <td>Farmer</td>\n",
       "      <td>Steamship Grecian</td>\n",
       "    </tr>\n",
       "  </tbody>\n",
       "</table>\n",
       "</div>"
      ],
      "text/plain": [
       "  first_name last_name         date  age native_country destination_city  \\\n",
       "0        Jno     McNab  09 Apr 1884   21       Scotland          Suelpla   \n",
       "1       Thos  Campbell  09 Apr 1884   24       Scotland          Suelpla   \n",
       "2        Jas  Mitchell  09 Apr 1884   23       Scotland          Detroit   \n",
       "3        Don   Cumming  09 Apr 1884   24       Scotland          Detroit   \n",
       "4        Jno  McKinlay  09 Apr 1884   24       Scotland         Winnipeg   \n",
       "5       John    Wilson  09 Apr 1884   28       Scotland           Boston   \n",
       "\n",
       "  destination_state  occupation               ship  \n",
       "0            Canada      Farmer  Steamship Grecian  \n",
       "1            Canada      Farmer  Steamship Grecian  \n",
       "2                MI      Farmer  Steamship Grecian  \n",
       "3                MI  Blacksmith  Steamship Grecian  \n",
       "4            Canada      Farmer  Steamship Grecian  \n",
       "5                MA      Farmer  Steamship Grecian  "
      ]
     },
     "execution_count": 12,
     "metadata": {},
     "output_type": "execute_result"
    }
   ],
   "source": [
    "passengers_df.head(6)"
   ]
  },
  {
   "cell_type": "markdown",
   "id": "62c95d85-4543-4ee1-baae-eb1960b339f6",
   "metadata": {},
   "source": [
    "3. Show a **random sample of 10 rows** from your dataframe.\n"
   ]
  },
  {
   "cell_type": "code",
   "execution_count": 14,
   "id": "d44f8e7c-2ff0-4b9d-bbdc-8d6f2140b3de",
   "metadata": {},
   "outputs": [
    {
     "data": {
      "text/html": [
       "<div>\n",
       "<style scoped>\n",
       "    .dataframe tbody tr th:only-of-type {\n",
       "        vertical-align: middle;\n",
       "    }\n",
       "\n",
       "    .dataframe tbody tr th {\n",
       "        vertical-align: top;\n",
       "    }\n",
       "\n",
       "    .dataframe thead th {\n",
       "        text-align: right;\n",
       "    }\n",
       "</style>\n",
       "<table border=\"1\" class=\"dataframe\">\n",
       "  <thead>\n",
       "    <tr style=\"text-align: right;\">\n",
       "      <th></th>\n",
       "      <th>first_name</th>\n",
       "      <th>last_name</th>\n",
       "      <th>date</th>\n",
       "      <th>age</th>\n",
       "      <th>native_country</th>\n",
       "      <th>destination_city</th>\n",
       "      <th>destination_state</th>\n",
       "      <th>occupation</th>\n",
       "      <th>ship</th>\n",
       "    </tr>\n",
       "  </thead>\n",
       "  <tbody>\n",
       "    <tr>\n",
       "      <th>235</th>\n",
       "      <td>Jno</td>\n",
       "      <td>Cafferty</td>\n",
       "      <td>09 Apr 1884</td>\n",
       "      <td>21</td>\n",
       "      <td>Ireland</td>\n",
       "      <td>Chicago</td>\n",
       "      <td>IL</td>\n",
       "      <td>Laborer</td>\n",
       "      <td>Steamship Grecian</td>\n",
       "    </tr>\n",
       "    <tr>\n",
       "      <th>248</th>\n",
       "      <td>Martin</td>\n",
       "      <td>Conlon</td>\n",
       "      <td>09 Apr 1884</td>\n",
       "      <td>7</td>\n",
       "      <td>Ireland</td>\n",
       "      <td>Ekleson</td>\n",
       "      <td>ND</td>\n",
       "      <td>Child</td>\n",
       "      <td>Steamship Grecian</td>\n",
       "    </tr>\n",
       "    <tr>\n",
       "      <th>9</th>\n",
       "      <td>J.T</td>\n",
       "      <td>Holmes</td>\n",
       "      <td>09 Apr 1884</td>\n",
       "      <td>23</td>\n",
       "      <td>Scotland</td>\n",
       "      <td>Brandon</td>\n",
       "      <td>VT</td>\n",
       "      <td>Farmer</td>\n",
       "      <td>Steamship Grecian</td>\n",
       "    </tr>\n",
       "    <tr>\n",
       "      <th>309</th>\n",
       "      <td>Cath</td>\n",
       "      <td>Divine</td>\n",
       "      <td>09 Apr 1884</td>\n",
       "      <td>18</td>\n",
       "      <td>Ireland</td>\n",
       "      <td>Fonda</td>\n",
       "      <td>NY</td>\n",
       "      <td>Domestic</td>\n",
       "      <td>Steamship Grecian</td>\n",
       "    </tr>\n",
       "    <tr>\n",
       "      <th>325</th>\n",
       "      <td>Cath</td>\n",
       "      <td>Higgins</td>\n",
       "      <td>09 Apr 1884</td>\n",
       "      <td>40</td>\n",
       "      <td>Ireland</td>\n",
       "      <td>Lock Haven</td>\n",
       "      <td>PA</td>\n",
       "      <td>Wife</td>\n",
       "      <td>Steamship Grecian</td>\n",
       "    </tr>\n",
       "    <tr>\n",
       "      <th>415</th>\n",
       "      <td>Jas</td>\n",
       "      <td>Malkern</td>\n",
       "      <td>09 Apr 1884</td>\n",
       "      <td>23</td>\n",
       "      <td>Ireland</td>\n",
       "      <td>New York</td>\n",
       "      <td>NY</td>\n",
       "      <td>Laborer</td>\n",
       "      <td>Steamship Grecian</td>\n",
       "    </tr>\n",
       "    <tr>\n",
       "      <th>436</th>\n",
       "      <td>Honor</td>\n",
       "      <td>Beatty</td>\n",
       "      <td>09 Apr 1884</td>\n",
       "      <td>10</td>\n",
       "      <td>Ireland</td>\n",
       "      <td>Pittsburg</td>\n",
       "      <td>PA</td>\n",
       "      <td>Domestic</td>\n",
       "      <td>Steamship Grecian</td>\n",
       "    </tr>\n",
       "    <tr>\n",
       "      <th>108</th>\n",
       "      <td>Jno</td>\n",
       "      <td>Boggs</td>\n",
       "      <td>09 Apr 1884</td>\n",
       "      <td>20</td>\n",
       "      <td>Ireland</td>\n",
       "      <td>Boston</td>\n",
       "      <td>MA</td>\n",
       "      <td>Laborer</td>\n",
       "      <td>Steamship Grecian</td>\n",
       "    </tr>\n",
       "    <tr>\n",
       "      <th>21</th>\n",
       "      <td>Thos</td>\n",
       "      <td>Robb</td>\n",
       "      <td>09 Apr 1884</td>\n",
       "      <td>24</td>\n",
       "      <td>Scotland</td>\n",
       "      <td>Madison</td>\n",
       "      <td>WI</td>\n",
       "      <td>Laborer</td>\n",
       "      <td>Steamship Grecian</td>\n",
       "    </tr>\n",
       "    <tr>\n",
       "      <th>275</th>\n",
       "      <td>Ann</td>\n",
       "      <td>Doyle</td>\n",
       "      <td>09 Apr 1884</td>\n",
       "      <td>15</td>\n",
       "      <td>Ireland</td>\n",
       "      <td>Port Lewis</td>\n",
       "      <td>NY</td>\n",
       "      <td>Domestic</td>\n",
       "      <td>Steamship Grecian</td>\n",
       "    </tr>\n",
       "  </tbody>\n",
       "</table>\n",
       "</div>"
      ],
      "text/plain": [
       "    first_name last_name         date  age native_country destination_city  \\\n",
       "235        Jno  Cafferty  09 Apr 1884   21        Ireland          Chicago   \n",
       "248     Martin    Conlon  09 Apr 1884    7        Ireland          Ekleson   \n",
       "9          J.T    Holmes  09 Apr 1884   23       Scotland          Brandon   \n",
       "309       Cath    Divine  09 Apr 1884   18        Ireland            Fonda   \n",
       "325       Cath   Higgins  09 Apr 1884   40        Ireland       Lock Haven   \n",
       "415        Jas   Malkern  09 Apr 1884   23        Ireland         New York   \n",
       "436      Honor    Beatty  09 Apr 1884   10        Ireland        Pittsburg   \n",
       "108        Jno     Boggs  09 Apr 1884   20        Ireland           Boston   \n",
       "21        Thos      Robb  09 Apr 1884   24       Scotland          Madison   \n",
       "275        Ann     Doyle  09 Apr 1884   15        Ireland       Port Lewis   \n",
       "\n",
       "    destination_state occupation               ship  \n",
       "235                IL    Laborer  Steamship Grecian  \n",
       "248                ND      Child  Steamship Grecian  \n",
       "9                  VT     Farmer  Steamship Grecian  \n",
       "309                NY   Domestic  Steamship Grecian  \n",
       "325                PA       Wife  Steamship Grecian  \n",
       "415                NY    Laborer  Steamship Grecian  \n",
       "436                PA   Domestic  Steamship Grecian  \n",
       "108                MA    Laborer  Steamship Grecian  \n",
       "21                 WI    Laborer  Steamship Grecian  \n",
       "275                NY   Domestic  Steamship Grecian  "
      ]
     },
     "execution_count": 14,
     "metadata": {},
     "output_type": "execute_result"
    }
   ],
   "source": [
    "passengers_df.sample(10)"
   ]
  },
  {
   "cell_type": "markdown",
   "id": "8de01b35-056f-449d-9c36-1ee37039ab61",
   "metadata": {},
   "source": [
    "4. What are **two historical questions** about this list of passengers that you might be able to answer using Pandas?\n"
   ]
  },
  {
   "cell_type": "markdown",
   "id": "e481cd00-22da-49e7-b29f-66574e2643aa",
   "metadata": {},
   "source": [
    "_Your answer here._\n",
    "\n",
    "1. Which country's immigrants came to Boston by the largest number of voyages in 1884?\n",
    "2. Which destination cities were the most popular among immigrants in 1884?\n"
   ]
  },
  {
   "cell_type": "markdown",
   "id": "d411ac05-ff3f-45cc-9e1a-709ea68f5387",
   "metadata": {},
   "source": [
    "## Analyzing the Data\n"
   ]
  },
  {
   "cell_type": "markdown",
   "id": "421c48fa-2e5f-487a-bc4f-3c5dba3ffef6",
   "metadata": {},
   "source": [
    "5. Calculate \"summary statistics\" for the passenger data.\n"
   ]
  },
  {
   "cell_type": "code",
   "execution_count": 19,
   "id": "c9e0047b-67f2-4685-9e47-8df6fe77a4fc",
   "metadata": {},
   "outputs": [
    {
     "data": {
      "text/html": [
       "<div>\n",
       "<style scoped>\n",
       "    .dataframe tbody tr th:only-of-type {\n",
       "        vertical-align: middle;\n",
       "    }\n",
       "\n",
       "    .dataframe tbody tr th {\n",
       "        vertical-align: top;\n",
       "    }\n",
       "\n",
       "    .dataframe thead th {\n",
       "        text-align: right;\n",
       "    }\n",
       "</style>\n",
       "<table border=\"1\" class=\"dataframe\">\n",
       "  <thead>\n",
       "    <tr style=\"text-align: right;\">\n",
       "      <th></th>\n",
       "      <th>first_name</th>\n",
       "      <th>last_name</th>\n",
       "      <th>date</th>\n",
       "      <th>age</th>\n",
       "      <th>native_country</th>\n",
       "      <th>destination_city</th>\n",
       "      <th>destination_state</th>\n",
       "      <th>occupation</th>\n",
       "      <th>ship</th>\n",
       "    </tr>\n",
       "  </thead>\n",
       "  <tbody>\n",
       "    <tr>\n",
       "      <th>count</th>\n",
       "      <td>512</td>\n",
       "      <td>515</td>\n",
       "      <td>515</td>\n",
       "      <td>515.000000</td>\n",
       "      <td>515</td>\n",
       "      <td>515</td>\n",
       "      <td>515</td>\n",
       "      <td>515</td>\n",
       "      <td>515</td>\n",
       "    </tr>\n",
       "    <tr>\n",
       "      <th>unique</th>\n",
       "      <td>102</td>\n",
       "      <td>170</td>\n",
       "      <td>1</td>\n",
       "      <td>NaN</td>\n",
       "      <td>3</td>\n",
       "      <td>56</td>\n",
       "      <td>21</td>\n",
       "      <td>9</td>\n",
       "      <td>1</td>\n",
       "    </tr>\n",
       "    <tr>\n",
       "      <th>top</th>\n",
       "      <td>Mary</td>\n",
       "      <td>Doherty</td>\n",
       "      <td>09 Apr 1884</td>\n",
       "      <td>NaN</td>\n",
       "      <td>Ireland</td>\n",
       "      <td>Boston</td>\n",
       "      <td>MA</td>\n",
       "      <td>Laborer</td>\n",
       "      <td>Steamship Grecian</td>\n",
       "    </tr>\n",
       "    <tr>\n",
       "      <th>freq</th>\n",
       "      <td>59</td>\n",
       "      <td>12</td>\n",
       "      <td>515</td>\n",
       "      <td>NaN</td>\n",
       "      <td>461</td>\n",
       "      <td>107</td>\n",
       "      <td>134</td>\n",
       "      <td>189</td>\n",
       "      <td>515</td>\n",
       "    </tr>\n",
       "    <tr>\n",
       "      <th>mean</th>\n",
       "      <td>NaN</td>\n",
       "      <td>NaN</td>\n",
       "      <td>NaN</td>\n",
       "      <td>21.440777</td>\n",
       "      <td>NaN</td>\n",
       "      <td>NaN</td>\n",
       "      <td>NaN</td>\n",
       "      <td>NaN</td>\n",
       "      <td>NaN</td>\n",
       "    </tr>\n",
       "    <tr>\n",
       "      <th>std</th>\n",
       "      <td>NaN</td>\n",
       "      <td>NaN</td>\n",
       "      <td>NaN</td>\n",
       "      <td>13.115392</td>\n",
       "      <td>NaN</td>\n",
       "      <td>NaN</td>\n",
       "      <td>NaN</td>\n",
       "      <td>NaN</td>\n",
       "      <td>NaN</td>\n",
       "    </tr>\n",
       "    <tr>\n",
       "      <th>min</th>\n",
       "      <td>NaN</td>\n",
       "      <td>NaN</td>\n",
       "      <td>NaN</td>\n",
       "      <td>0.000000</td>\n",
       "      <td>NaN</td>\n",
       "      <td>NaN</td>\n",
       "      <td>NaN</td>\n",
       "      <td>NaN</td>\n",
       "      <td>NaN</td>\n",
       "    </tr>\n",
       "    <tr>\n",
       "      <th>25%</th>\n",
       "      <td>NaN</td>\n",
       "      <td>NaN</td>\n",
       "      <td>NaN</td>\n",
       "      <td>11.000000</td>\n",
       "      <td>NaN</td>\n",
       "      <td>NaN</td>\n",
       "      <td>NaN</td>\n",
       "      <td>NaN</td>\n",
       "      <td>NaN</td>\n",
       "    </tr>\n",
       "    <tr>\n",
       "      <th>50%</th>\n",
       "      <td>NaN</td>\n",
       "      <td>NaN</td>\n",
       "      <td>NaN</td>\n",
       "      <td>20.000000</td>\n",
       "      <td>NaN</td>\n",
       "      <td>NaN</td>\n",
       "      <td>NaN</td>\n",
       "      <td>NaN</td>\n",
       "      <td>NaN</td>\n",
       "    </tr>\n",
       "    <tr>\n",
       "      <th>75%</th>\n",
       "      <td>NaN</td>\n",
       "      <td>NaN</td>\n",
       "      <td>NaN</td>\n",
       "      <td>28.000000</td>\n",
       "      <td>NaN</td>\n",
       "      <td>NaN</td>\n",
       "      <td>NaN</td>\n",
       "      <td>NaN</td>\n",
       "      <td>NaN</td>\n",
       "    </tr>\n",
       "    <tr>\n",
       "      <th>max</th>\n",
       "      <td>NaN</td>\n",
       "      <td>NaN</td>\n",
       "      <td>NaN</td>\n",
       "      <td>64.000000</td>\n",
       "      <td>NaN</td>\n",
       "      <td>NaN</td>\n",
       "      <td>NaN</td>\n",
       "      <td>NaN</td>\n",
       "      <td>NaN</td>\n",
       "    </tr>\n",
       "  </tbody>\n",
       "</table>\n",
       "</div>"
      ],
      "text/plain": [
       "       first_name last_name         date         age native_country  \\\n",
       "count         512       515          515  515.000000            515   \n",
       "unique        102       170            1         NaN              3   \n",
       "top          Mary   Doherty  09 Apr 1884         NaN        Ireland   \n",
       "freq           59        12          515         NaN            461   \n",
       "mean          NaN       NaN          NaN   21.440777            NaN   \n",
       "std           NaN       NaN          NaN   13.115392            NaN   \n",
       "min           NaN       NaN          NaN    0.000000            NaN   \n",
       "25%           NaN       NaN          NaN   11.000000            NaN   \n",
       "50%           NaN       NaN          NaN   20.000000            NaN   \n",
       "75%           NaN       NaN          NaN   28.000000            NaN   \n",
       "max           NaN       NaN          NaN   64.000000            NaN   \n",
       "\n",
       "       destination_city destination_state occupation               ship  \n",
       "count               515               515        515                515  \n",
       "unique               56                21          9                  1  \n",
       "top              Boston                MA    Laborer  Steamship Grecian  \n",
       "freq                107               134        189                515  \n",
       "mean                NaN               NaN        NaN                NaN  \n",
       "std                 NaN               NaN        NaN                NaN  \n",
       "min                 NaN               NaN        NaN                NaN  \n",
       "25%                 NaN               NaN        NaN                NaN  \n",
       "50%                 NaN               NaN        NaN                NaN  \n",
       "75%                 NaN               NaN        NaN                NaN  \n",
       "max                 NaN               NaN        NaN                NaN  "
      ]
     },
     "execution_count": 19,
     "metadata": {},
     "output_type": "execute_result"
    }
   ],
   "source": [
    "passengers_df.describe(include='all')"
   ]
  },
  {
   "cell_type": "markdown",
   "id": "adc4b799-282d-47fc-8ec1-98b9a6ac9137",
   "metadata": {},
   "source": [
    "6. Looking at the summary statistics, answer the following questions:\n",
    "\n",
    "- What is the most frequently occuring last name?\n",
    "- How often does the most frequently occuring last name appear?\n",
    "- How many different _kinds_ of occupations are listed in the data?\n",
    "- How old is the oldest passenger?\n"
   ]
  },
  {
   "cell_type": "markdown",
   "id": "dd1a33c3-f884-47d2-bad6-b7ac1a85f88f",
   "metadata": {},
   "source": [
    "Your answers here:\n",
    "\n",
    "- What is the most frequently occuring last name?  Doherty\n",
    "- How often does the most frequently occuring last name appear? 12\n",
    "- How many different _kinds_ of occupations are listed in the data? 9\n",
    "- How old is the oldest passenger? 64\n"
   ]
  },
  {
   "cell_type": "markdown",
   "id": "7f214254-b287-469b-be3d-0a18e2460ad9",
   "metadata": {},
   "source": [
    "7. Write code to answer: what was the **median** age of the passengers?\n"
   ]
  },
  {
   "cell_type": "code",
   "execution_count": 23,
   "id": "bf0458e4-892e-497b-9543-92ef66e3e80b",
   "metadata": {},
   "outputs": [
    {
     "name": "stdout",
     "output_type": "stream",
     "text": [
      "The median age of the passengers is: 20.0\n"
     ]
    }
   ],
   "source": [
    "median_age = passengers_df['age'].median()\n",
    "print(\"The median age of the passengers is:\", median_age)"
   ]
  },
  {
   "cell_type": "markdown",
   "id": "253a1523-01a2-4be3-ac86-081b3d43d495",
   "metadata": {},
   "source": [
    "8. What were the **ten most frequent cities** that passengers were traveling to and how many of them were going to each of these cities?\n"
   ]
  },
  {
   "cell_type": "code",
   "execution_count": 25,
   "id": "3edd1315-f228-41b0-905f-6e2709033889",
   "metadata": {},
   "outputs": [
    {
     "data": {
      "text/plain": [
       "destination_city\n",
       "Boston          107\n",
       "Pittsburg        52\n",
       "Chicago          36\n",
       "Scranton         30\n",
       "New York         26\n",
       "Brooklyn         26\n",
       "Portland         23\n",
       "Philadelphia     17\n",
       "St. Louis        15\n",
       "Fonda            11\n",
       "Name: count, dtype: int64"
      ]
     },
     "execution_count": 25,
     "metadata": {},
     "output_type": "execute_result"
    }
   ],
   "source": [
    "passengers_df['destination_city'].value_counts()[:10]"
   ]
  },
  {
   "cell_type": "markdown",
   "id": "56e06642-451d-4999-8857-ea15c0df3148",
   "metadata": {},
   "source": [
    "9. Follow [Walsh's example](https://melaniewalsh.github.io/Intro-Cultural-Analytics/03-Data-Analysis/01-Pandas-Basics-Part1.html#:~:text=in%20the%201840s.-,Make%20and%20Save%20Plots,-%C2%B6) and adapt her code to make a bar chart of the **top ten most frequent destination cities** based on **how many passengers** were going to each of them.\n"
   ]
  },
  {
   "cell_type": "code",
   "execution_count": 27,
   "id": "e0d535a4-fcd5-422f-873b-ba98257967fa",
   "metadata": {},
   "outputs": [
    {
     "data": {
      "text/plain": [
       "<Axes: title={'center': 'top ten most frequent destination cities'}, xlabel='destination_city'>"
      ]
     },
     "execution_count": 27,
     "metadata": {},
     "output_type": "execute_result"
    },
    {
     "data": {
      "image/png": "[encoded data removed]",
      "text/plain": [
       "<Figure size 640x480 with 1 Axes>"
      ]
     },
     "metadata": {},
     "output_type": "display_data"
    }
   ],
   "source": [
    "passengers_df['destination_city'].value_counts()[:10].plot(kind='bar', title='top ten most frequent destination cities')"
   ]
  },
  {
   "cell_type": "markdown",
   "id": "18768b2f-ee7b-4d2c-8587-208b25714938",
   "metadata": {},
   "source": [
    "10. Where were passengers coming from? Print out **the most frequent countries** they were immigrating from and how many passengers were coming from each country. Hint: use `value_counts()` and index.\n"
   ]
  },
  {
   "cell_type": "code",
   "execution_count": 29,
   "id": "159cf023-a193-4343-8adf-4253d0f717d7",
   "metadata": {},
   "outputs": [
    {
     "name": "stdout",
     "output_type": "stream",
     "text": [
      "native_country\n",
      "Ireland    461\n",
      "Name: count, dtype: int64\n"
     ]
    }
   ],
   "source": [
    "most_frequent_countries = passengers_df['native_country'].value_counts()[:1]\n",
    "print(most_frequent_countries)"
   ]
  },
  {
   "cell_type": "markdown",
   "id": "217cb633-ef39-4479-ba19-7e556ebc85a3",
   "metadata": {},
   "source": [
    "11. Make a pie chart showing **how many passengers were coming from each country**. Adapt [Walsh's example](https://melaniewalsh.github.io/Intro-Cultural-Analytics/03-Data-Analysis/01-Pandas-Basics-Part1.html#:~:text=To%20make%20a%20pie%20chart%2C).\n"
   ]
  },
  {
   "cell_type": "code",
   "execution_count": 31,
   "id": "860a204a-8060-4845-bee5-022da95592d2",
   "metadata": {},
   "outputs": [
    {
     "data": {
      "text/plain": [
       "<Axes: title={'center': 'how many passengers'}, ylabel='count'>"
      ]
     },
     "execution_count": 31,
     "metadata": {},
     "output_type": "execute_result"
    },
    {
     "data": {
      "image/png": "[encoded data removed]",
      "text/plain": [
       "<Figure size 1000x1000 with 1 Axes>"
      ]
     },
     "metadata": {},
     "output_type": "display_data"
    }
   ],
   "source": [
    "passengers_df['native_country'].value_counts().plot(kind='pie', figsize=(10, 10), title='how many passengers')"
   ]
  },
  {
   "cell_type": "markdown",
   "id": "596ff7d6-8819-409e-874a-d29421e03b62",
   "metadata": {},
   "source": [
    "12. Create a new variable called `children_filter` and assign it a True/False statement to that variable that specifies passengers who were **children**. Then use this new `children_filter` to create a new dataframe called `children_df` that **only contains passengers who were children**. Display a sample of **five random rows** from this new dataframe. Hint: look under the `occupation` column in your dataframe. Hint: [Walsh example](https://melaniewalsh.github.io/Intro-Cultural-Analytics/03-Data-Analysis/01-Pandas-Basics-Part1.html#:~:text=it%20can%20be%20helpful%20to%20make%20a%20separate%20variable%20for%20a%20filter).\n"
   ]
  },
  {
   "cell_type": "code",
   "execution_count": 33,
   "id": "2d4e1e97-59ab-40a5-962c-8b957b4bc317",
   "metadata": {
    "tags": []
   },
   "outputs": [
    {
     "name": "stdout",
     "output_type": "stream",
     "text": [
      "    first_name last_name         date  age native_country destination_city  \\\n",
      "421        Jas    Conway  09 Apr 1884   11        Ireland         New York   \n",
      "48        Mary    Watson  09 Apr 1884   11       Scotland           Auburn   \n",
      "353        Ann   Brennan  09 Apr 1884   11        Ireland         New York   \n",
      "74         Pat   Doherty  09 Apr 1884    7        Ireland           Boston   \n",
      "492       Mary  Flaherty  09 Apr 1884    4        Ireland        Pittsburg   \n",
      "\n",
      "    destination_state occupation               ship  \n",
      "421                NY      Child  Steamship Grecian  \n",
      "48                 NY      Child  Steamship Grecian  \n",
      "353                NY      Child  Steamship Grecian  \n",
      "74                 MA      Child  Steamship Grecian  \n",
      "492                PA      Child  Steamship Grecian  \n"
     ]
    }
   ],
   "source": [
    "children_filter = passengers_df['occupation'] == 'Child'\n",
    "children_df = passengers_df[children_filter]\n",
    "print(children_df.sample(5))"
   ]
  },
  {
   "cell_type": "markdown",
   "id": "744af8b9-09b8-4b31-ab3f-57aa1e7cce88",
   "metadata": {},
   "source": [
    "13. Create a **new CSV file** named `passenger-list-children.csv` that only contains records for passengers who were children. Hint: you'll be printing the contents of `children_df` to a CSV file using `to_csv()` method. [Walsh example](https://melaniewalsh.github.io/Intro-Cultural-Analytics/03-Data-Analysis/01-Pandas-Basics-Part1.html#:~:text=To%20output%20a%20new%20CSV%20file). To check to make sure you successfully created the file, add a line of code that reads in the newly created CSV file using `pd.read_csv()`.\n"
   ]
  },
  {
   "cell_type": "code",
   "execution_count": 35,
   "id": "31f2ea0a-bfed-4c7c-b0ac-48b07c5c4e95",
   "metadata": {},
   "outputs": [
    {
     "name": "stdout",
     "output_type": "stream",
     "text": [
      "    first_name last_name         date  age native_country destination_city  \\\n",
      "109        Tom     Folan  09 Apr 1884    0        Ireland        Mansfield   \n",
      "59       Sarah    Reilly  09 Apr 1884    8        Ireland          Chicago   \n",
      "95        Mary   Mulkern  09 Apr 1884    7        Ireland        Pittsburg   \n",
      "33        Mary     Lofus  09 Apr 1884   11        Ireland           Oneida   \n",
      "117        Ann  Kerrigan  09 Apr 1884    4        Ireland       Winchester   \n",
      "\n",
      "    destination_state occupation               ship  \n",
      "109                MA      Child  Steamship Grecian  \n",
      "59                 IL      Child  Steamship Grecian  \n",
      "95                 PA      Child  Steamship Grecian  \n",
      "33                 NY      Child  Steamship Grecian  \n",
      "117                MA      Child  Steamship Grecian  \n"
     ]
    }
   ],
   "source": [
    "children_df.to_csv(\"passenger-list-children.csv\", index=False)\n",
    "new_children_df = pd.read_csv(\"passenger-list-children.csv\")\n",
    "print(new_children_df.sample(5))"
   ]
  },
  {
   "cell_type": "markdown",
   "id": "196a2c06",
   "metadata": {},
   "source": [
    "## Bonus Questions\n"
   ]
  },
  {
   "cell_type": "markdown",
   "id": "fe39a415-beed-4174-8129-fd7e4d687f0a",
   "metadata": {},
   "source": [
    "What was the cut-off age for classifying a passenger as a child? Ie. What was **the oldest a passenger could be to still be considered a child**? Write code that prints out the answer to this question.\n"
   ]
  },
  {
   "cell_type": "code",
   "execution_count": 38,
   "id": "b51ba412-e369-44b1-ba5c-e04fe51a30e9",
   "metadata": {},
   "outputs": [
    {
     "name": "stdout",
     "output_type": "stream",
     "text": [
      "The oldest age at which passengers are still regarded as children is 12.\n"
     ]
    }
   ],
   "source": [
    "oldest_age = new_children_df['age'].max()\n",
    "print(f\"The oldest age at which passengers are still regarded as children is {oldest_age}.\")"
   ]
  },
  {
   "cell_type": "markdown",
   "id": "273f6342",
   "metadata": {},
   "source": [
    "**Age Comparison**: Calculate and write print() statements that show:\n",
    "\n",
    "- The average age of passengers from **Ireland**\n",
    "- The average age of passengers from **Scotland**.\n",
    "- The difference in years between these average\n"
   ]
  },
  {
   "cell_type": "code",
   "execution_count": 40,
   "id": "91e312f3",
   "metadata": {},
   "outputs": [],
   "source": [
    "#Your Code Here"
   ]
  },
  {
   "cell_type": "markdown",
   "id": "7c1a9038",
   "metadata": {},
   "source": [
    "**Save a Filtered Dataset**: Create a new CSV file that contains data for: only adult passengers (**age 18 and over**) who were heading to **Boston**.\n"
   ]
  },
  {
   "cell_type": "code",
   "execution_count": 42,
   "id": "8d4602a8",
   "metadata": {},
   "outputs": [],
   "source": [
    "#Your Code Here"
   ]
  }
 ],
 "metadata": {
  "kernelspec": {
   "display_name": "Python [conda env:base] *",
   "language": "python",
   "name": "conda-base-py"
  },
  "language_info": {
   "codemirror_mode": {
    "name": "ipython",
    "version": 3
   },
   "file_extension": ".py",
   "mimetype": "text/x-python",
   "name": "python",
   "nbconvert_exporter": "python",
   "pygments_lexer": "ipython3",
   "version": "3.12.7"
  },
  "toc-autonumbering": false,
  "toc-showmarkdowntxt": false,
  "toc-showtags": false
 },
 "nbformat": 4,
 "nbformat_minor": 5
}
