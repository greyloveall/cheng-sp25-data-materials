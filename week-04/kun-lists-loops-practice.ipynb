{
 "cells": [
  {
   "cell_type": "code",
   "execution_count": 1,
   "id": "d077061f-46fc-4704-860e-e5c5998a625b",
   "metadata": {},
   "outputs": [],
   "source": [
    "ages = [45, 23, 16, 34, 64, 28, 42, 31, 27, 38, 17, 52, 29, 44, 33, 15, 61, 36, 18, 41]\n",
    "\n",
    "occupations = ['farmer', 'servant', 'laborer', 'merchant', 'farmer', 'servant', 'teacher', 'farmer', 'laborer', 'merchant', 'servant', 'farmer', 'laborer', 'blacksmith', 'carpenter', 'servant', 'farmer', 'weaver', 'servant', 'carpenter']\n",
    "\n",
    "birth_places = ['Ireland', 'Ireland', 'New York', 'England', 'Ireland', 'Germany', 'New York', 'Ireland', 'Ireland', 'Scotland', 'Ireland', 'England', 'Ireland', 'Wales', 'Ireland', 'Ireland', 'Scotland', 'Ireland', 'Germany', 'Ireland']\n"
   ]
  },
  {
   "cell_type": "code",
   "execution_count": 2,
   "id": "5b746859-55b4-48d7-834c-55811894b739",
   "metadata": {},
   "outputs": [
    {
     "name": "stdout",
     "output_type": "stream",
     "text": [
      "The length of the ages length is 20.\n"
     ]
    }
   ],
   "source": [
    "print(f\"The length of the ages length is {len(ages)}.\")"
   ]
  },
  {
   "cell_type": "code",
   "execution_count": 3,
   "id": "68fac983-e1b2-455c-a547-ea6685d04168",
   "metadata": {},
   "outputs": [
    {
     "data": {
      "text/plain": [
       "['farmer', 'servant', 'laborer', 'merchant', 'farmer']"
      ]
     },
     "execution_count": 3,
     "metadata": {},
     "output_type": "execute_result"
    }
   ],
   "source": [
    "occupations[0:5]"
   ]
  },
  {
   "cell_type": "code",
   "execution_count": 5,
   "id": "d7e07ee9-258c-44f5-9170-6b88c27a8c68",
   "metadata": {},
   "outputs": [
    {
     "data": {
      "text/plain": [
       "Counter({'farmer': 5,\n",
       "         'servant': 5,\n",
       "         'laborer': 3,\n",
       "         'merchant': 2,\n",
       "         'carpenter': 2,\n",
       "         'teacher': 1,\n",
       "         'blacksmith': 1,\n",
       "         'weaver': 1})"
      ]
     },
     "execution_count": 5,
     "metadata": {},
     "output_type": "execute_result"
    }
   ],
   "source": [
    "from collections import Counter\n",
    "Counter(occupations)"
   ]
  },
  {
   "cell_type": "code",
   "execution_count": 8,
   "id": "38e33fca-fb97-4a15-b96b-a420feb583ec",
   "metadata": {},
   "outputs": [
    {
     "data": {
      "text/plain": [
       "Counter({'Ireland': 11,\n",
       "         'New York': 2,\n",
       "         'England': 2,\n",
       "         'Germany': 2,\n",
       "         'Scotland': 2,\n",
       "         'Wales': 1})"
      ]
     },
     "execution_count": 8,
     "metadata": {},
     "output_type": "execute_result"
    }
   ],
   "source": [
    "Counter(birth_places)"
   ]
  },
  {
   "cell_type": "code",
   "execution_count": 9,
   "id": "fd26de25-c4ca-4b32-9d67-c1a0c136eecc",
   "metadata": {},
   "outputs": [
    {
     "name": "stdout",
     "output_type": "stream",
     "text": [
      "Person #0: farmer\n",
      "Person #1: servant\n",
      "Person #2: laborer\n",
      "Person #3: merchant\n",
      "Person #4: farmer\n",
      "Person #5: servant\n",
      "Person #6: teacher\n",
      "Person #7: farmer\n",
      "Person #8: laborer\n",
      "Person #9: merchant\n",
      "Person #10: servant\n",
      "Person #11: farmer\n",
      "Person #12: laborer\n",
      "Person #13: blacksmith\n",
      "Person #14: carpenter\n",
      "Person #15: servant\n",
      "Person #16: farmer\n",
      "Person #17: weaver\n",
      "Person #18: servant\n",
      "Person #19: carpenter\n"
     ]
    }
   ],
   "source": [
    "for number, occupation in enumerate(occupations):\n",
    "    print(f\"Person #{number}: {occupation}\")\n"
   ]
  },
  {
   "cell_type": "code",
   "execution_count": 11,
   "id": "c0059f04-be1b-481b-99fd-21eb5737fb41",
   "metadata": {},
   "outputs": [
    {
     "name": "stdout",
     "output_type": "stream",
     "text": [
      "Person #0: 45\n",
      "Person #1: 23\n",
      "Person #2: 16\n",
      "Person #3: 34\n",
      "Person #4: 64\n",
      "Person #5: 28\n",
      "Person #6: 42\n",
      "Person #7: 31\n",
      "Person #8: 27\n",
      "Person #9: 38\n",
      "Person #10: 17\n",
      "Person #11: 52\n",
      "Person #12: 29\n",
      "Person #13: 44\n",
      "Person #14: 33\n",
      "Person #15: 15\n",
      "Person #16: 61\n",
      "Person #17: 36\n",
      "Person #18: 18\n",
      "Person #19: 41\n"
     ]
    }
   ],
   "source": [
    "for number, ages in enumerate(ages):\n",
    "    print(f\"Person #{number}: {ages}\")\n"
   ]
  },
  {
   "cell_type": "markdown",
   "id": "6b9af93c-c014-492b-b50a-8ef98c8ed92a",
   "metadata": {},
   "source": [
    "Creating A New List"
   ]
  },
  {
   "cell_type": "code",
   "execution_count": 12,
   "id": "a7586f4f-742b-4794-a189-b67a0eb1adc7",
   "metadata": {},
   "outputs": [
    {
     "name": "stdout",
     "output_type": "stream",
     "text": [
      "Number of skilled laborers: 4\n"
     ]
    }
   ],
   "source": [
    "skilled_laborers = []\n",
    "for occupation in occupations:\n",
    "    if occupation == 'blacksmith' or occupation == 'carpenter' or occupation == 'weaver':\n",
    "        skilled_laborers.append(occupation)\n",
    "print(f\"Number of skilled laborers: {len(skilled_laborers)}\")\n"
   ]
  },
  {
   "cell_type": "code",
   "execution_count": 13,
   "id": "44c3e05f-8e5b-4a9f-a265-821245c21987",
   "metadata": {},
   "outputs": [
    {
     "name": "stdout",
     "output_type": "stream",
     "text": [
      "Number of uk: 0\n"
     ]
    }
   ],
   "source": [
    "uk = []\n",
    "for place in birth_places:\n",
    "    if birth_places == 'England' or birth_places == 'Ireland' or birth_places == 'Wales':\n",
    "        uk.append(birth_places)\n",
    "print(f\"Number of uk: {len(uk)}\")"
   ]
  },
  {
   "cell_type": "code",
   "execution_count": null,
   "id": "6515431a-b6cb-4dfa-b89a-6c6f8322ed0f",
   "metadata": {},
   "outputs": [],
   "source": []
  }
 ],
 "metadata": {
  "kernelspec": {
   "display_name": "Python 3 (ipykernel)",
   "language": "python",
   "name": "python3"
  },
  "language_info": {
   "codemirror_mode": {
    "name": "ipython",
    "version": 3
   },
   "file_extension": ".py",
   "mimetype": "text/x-python",
   "name": "python",
   "nbconvert_exporter": "python",
   "pygments_lexer": "ipython3",
   "version": "3.12.7"
  }
 },
 "nbformat": 4,
 "nbformat_minor": 5
}
