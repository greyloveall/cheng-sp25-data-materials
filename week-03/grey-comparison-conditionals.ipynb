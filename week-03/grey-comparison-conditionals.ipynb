{
 "cells": [
  {
   "cell_type": "code",
   "execution_count": 5,
   "id": "ab9d1fbd-a2b9-4399-9f0c-aff5e3f862a1",
   "metadata": {},
   "outputs": [],
   "source": [
    "# Boston population data\n",
    "boston_1850 = 136881\n",
    "boston_1860 = 177840\n",
    "boston_1870 = 250526\n",
    "\n",
    "# New York population data\n",
    "ny_1850 = 515547\n",
    "ny_1860 = 813669\n",
    "ny_1870 = 942292\n",
    "\n",
    "# Philadelphia population data\n",
    "phil_1850 = 121376\n",
    "phil_1860 = 565529\n",
    "phil_1870 = 674022\n"
   ]
  },
  {
   "cell_type": "code",
   "execution_count": 6,
   "id": "e37c21be-a4be-4f6e-902a-ca8d87a25f0b",
   "metadata": {},
   "outputs": [
    {
     "name": "stdout",
     "output_type": "stream",
     "text": [
      "Yes\n"
     ]
    }
   ],
   "source": [
    "if boston_1870 > 200000:\n",
    "    print(\"Yes\")\n",
    "else:\n",
    "    print(\"No\")"
   ]
  },
  {
   "cell_type": "code",
   "execution_count": 7,
   "id": "ee741981-7443-4da7-b7d4-30551479077d",
   "metadata": {},
   "outputs": [
    {
     "name": "stdout",
     "output_type": "stream",
     "text": [
      "New York is larger in 1860\n"
     ]
    }
   ],
   "source": [
    "if ny_1860 > phil_1860:\n",
    "    print(\"New York is larger in 1860\")\n",
    "else:\n",
    "    print(\"Phil is bigger in 1860\")"
   ]
  },
  {
   "cell_type": "code",
   "execution_count": 8,
   "id": "c6555f95-d90a-4890-8413-ca81e0a61f50",
   "metadata": {},
   "outputs": [
    {
     "name": "stdout",
     "output_type": "stream",
     "text": [
      "Yes\n"
     ]
    }
   ],
   "source": [
    "if phil_1860 > phil_1850+phil_1850:\n",
    "    print(\"Yes\")\n",
    "else:\n",
    "    print(\"No\")"
   ]
  },
  {
   "cell_type": "markdown",
   "id": "a5bf65f4-4524-4871-8776-3d2d2cf29384",
   "metadata": {},
   "source": [
    "Population Growth"
   ]
  },
  {
   "cell_type": "code",
   "execution_count": 9,
   "id": "afb70ad9-feac-46be-92da-86d250a857a6",
   "metadata": {},
   "outputs": [],
   "source": [
    "# Calculate population growth\n",
    "boston_growth = boston_1870 - boston_1850\n",
    "ny_growth = ny_1870 - ny_1850\n",
    "phil_growth = phil_1870 - phil_1850\n"
   ]
  },
  {
   "cell_type": "code",
   "execution_count": 12,
   "id": "0a4b1023-6167-4d44-bf3a-3d6c85211dc2",
   "metadata": {},
   "outputs": [
    {
     "name": "stdout",
     "output_type": "stream",
     "text": [
      "phil highest growth\n"
     ]
    }
   ],
   "source": [
    "if boston_growth > ny_growth and boston_growth > phil_growth:\n",
    "    print(\"boston highest growth\")\n",
    "elif ny_growth > boston_growth and ny_growth > phil_growth:\n",
    "    print(\"new york highest growth\")\n",
    "elif phil_growth > boston_growth and phil_growth > ny_growth:\n",
    "    print(\"phil highest growth\")"
   ]
  },
  {
   "cell_type": "code",
   "execution_count": 14,
   "id": "1e84f687-7013-4ffb-8334-695652c414ae",
   "metadata": {},
   "outputs": [
    {
     "name": "stdout",
     "output_type": "stream",
     "text": [
      "yes\n"
     ]
    }
   ],
   "source": [
    "if boston_1870 > 200000 and (boston_1870 - boston_1850) > 100000:\n",
    "    print(\"yes\")"
   ]
  },
  {
   "cell_type": "code",
   "execution_count": null,
   "id": "65815a11-5fd6-440e-b7f9-f926be587e51",
   "metadata": {},
   "outputs": [],
   "source": []
  }
 ],
 "metadata": {
  "kernelspec": {
   "display_name": "Python 3 (ipykernel)",
   "language": "python",
   "name": "python3"
  },
  "language_info": {
   "codemirror_mode": {
    "name": "ipython",
    "version": 3
   },
   "file_extension": ".py",
   "mimetype": "text/x-python",
   "name": "python",
   "nbconvert_exporter": "python",
   "pygments_lexer": "ipython3",
   "version": "3.12.7"
  }
 },
 "nbformat": 4,
 "nbformat_minor": 5
}
